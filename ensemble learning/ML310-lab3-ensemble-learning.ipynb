{
 "cells": [
  {
   "cell_type": "code",
   "execution_count": null,
   "metadata": {
    "collapsed": true
   },
   "outputs": [],
   "source": [
    "# # install packages\n",
    "# import sys\n",
    "\n",
    "# !conda install --yes --prefix {sys.prefix} numpy scipy pandas matplotlib seaborn pydotplus"
   ]
  },
  {
   "cell_type": "markdown",
   "metadata": {},
   "source": [
    "# Ensemble Learning\n",
    "\n",
    "In this lab, you will practice how to use and fine-tune Random Forest, Gradient Boosted Trees in scikit-learn and [XGBoost](https://xgboost.readthedocs.io/en/latest/) model. You will also get yourselves familiar with the hyper-parameters for each model in their API."
   ]
  },
  {
   "cell_type": "code",
   "execution_count": null,
   "metadata": {
    "collapsed": true
   },
   "outputs": [],
   "source": [
    "# import packages\n",
    "%matplotlib inline\n",
    "import numpy as np\n",
    "import matplotlib\n",
    "import matplotlib.pyplot as plt\n",
    "from matplotlib.colors import ListedColormap\n",
    "import seaborn as sns\n",
    "import pandas as pd\n",
    "# import xgboost as xgb\n",
    "from sklearn.datasets import make_moons\n",
    "from sklearn.linear_model import LogisticRegression\n",
    "from sklearn.tree import DecisionTreeClassifier\n",
    "from sklearn.tree import DecisionTreeRegressor\n",
    "from sklearn.ensemble import RandomForestClassifier\n",
    "from sklearn.ensemble import RandomForestRegressor\n",
    "from sklearn.ensemble import GradientBoostingClassifier\n",
    "from sklearn.ensemble import GradientBoostingRegressor\n",
    "from sklearn.ensemble import AdaBoostClassifier\n",
    "from sklearn.metrics import accuracy_score\n",
    "from sklearn.metrics import roc_auc_score\n",
    "from sklearn.model_selection import GridSearchCV\n",
    "from sklearn.utils import resample\n",
    "\n",
    "# make this notebook's output stable across runs\n",
    "np.random.seed(0)"
   ]
  },
  {
   "cell_type": "code",
   "execution_count": null,
   "metadata": {
    "collapsed": true
   },
   "outputs": [],
   "source": [
    "# helper functions used in this lab\n",
    "def plot_decision_boundary(clf, X, y, axes=[-1.5, 2.5, -1, 1.5], alpha=0.5, contour=True):\n",
    "    \"\"\"\n",
    "    Plot the decision boundary of a learnt classifier\n",
    "    \"\"\"\n",
    "    x1s = np.linspace(axes[0], axes[1], 100)\n",
    "    x2s = np.linspace(axes[2], axes[3], 100)\n",
    "    x1, x2 = np.meshgrid(x1s, x2s)\n",
    "    X_new = np.c_[x1.ravel(), x2.ravel()]\n",
    "    y_pred = clf.predict(X_new).reshape(x1.shape)\n",
    "    custom_cmap = ListedColormap(['#fafab0','#9898ff','#a0faa0'])\n",
    "    plt.contourf(x1, x2, y_pred, alpha=0.3, cmap=custom_cmap)\n",
    "    if contour:\n",
    "        custom_cmap2 = ListedColormap(['#7d7d58','#4c4c7f','#507d50'])\n",
    "        plt.contour(x1, x2, y_pred, cmap=custom_cmap2, alpha=1)\n",
    "    plt.plot(X[:, 0][y==0], X[:, 1][y==0], \"yo\", alpha=alpha)\n",
    "    plt.plot(X[:, 0][y==1], X[:, 1][y==1], \"bs\", alpha=alpha)\n",
    "    plt.axis(axes)\n",
    "    plt.xlabel(r\"$x_1$\", fontsize=18)\n",
    "    plt.ylabel(r\"$x_2$\", fontsize=18, rotation=0)"
   ]
  },
  {
   "cell_type": "markdown",
   "metadata": {},
   "source": [
    "## Synthetic Moon dataset\n",
    "In this lab, we will classify a moon shaped synthetic dataset with two features (_x1_ and _x2_) and two classes (0 or 1) with some added noise. "
   ]
  },
  {
   "cell_type": "code",
   "execution_count": null,
   "metadata": {
    "collapsed": true
   },
   "outputs": [],
   "source": [
    "# load the moon train and test data from CSV files\n",
    "train = pd.read_csv(\"moon_train.csv\")\n",
    "test = pd.read_csv(\"moon_test.csv\")\n",
    "\n",
    "train_x = train.iloc[:,0:2]\n",
    "train_y = train.iloc[:,2]\n",
    "\n",
    "test_x = test.iloc[:,0:2]\n",
    "test_y = test.iloc[:,2]\n",
    "\n",
    "print(\"Number of train data: {}\".format(len(train_y)))\n",
    "print(\"Number of test data: {}\".format(len(test_y)))"
   ]
  },
  {
   "cell_type": "code",
   "execution_count": null,
   "metadata": {
    "collapsed": true
   },
   "outputs": [],
   "source": [
    "# plot the train dataset\n",
    "plt.scatter(train_x.x1, train_x.x2, s=40, c=train_y, cmap=plt.cm.Spectral)\n",
    "plt.title('Scatter plot of the train dataset')\n",
    "plt.xlabel('x1')\n",
    "plt.ylabel('x2')"
   ]
  },
  {
   "cell_type": "code",
   "execution_count": null,
   "metadata": {
    "collapsed": true
   },
   "outputs": [],
   "source": [
    "# plot the test dataset\n",
    "plt.scatter(test_x.x1, test_x.x2, s=40, c=test_y, cmap=plt.cm.Spectral)\n",
    "plt.title('Scatter plot of the test dataset')\n",
    "plt.xlabel('x1')\n",
    "plt.ylabel('x2')"
   ]
  },
  {
   "cell_type": "markdown",
   "metadata": {},
   "source": [
    "## Decision Tree Classifier\n",
    "\n",
    "<span style=\"color:orange\">**In this exercise, we will apply the decision tree Classifier provided in scikit-learn to classify the synthetic moon data.**"
   ]
  },
  {
   "cell_type": "code",
   "execution_count": null,
   "metadata": {
    "collapsed": true
   },
   "outputs": [],
   "source": [
    "# Build Decision Tree classifier\n",
    "parameters = # TODO\n",
    "\n",
    "dtc = # TODO\n",
    "dtc_grid = # TODO\n",
    "\n",
    "# summarize the results of the grid search\n",
    "print(\"The best score is {}\".format(dtc_grid.best_score_))\n",
    "print(\"The best hyper parameter setting is {}\".format(dtc_grid.best_params_))"
   ]
  },
  {
   "cell_type": "code",
   "execution_count": null,
   "metadata": {
    "collapsed": true
   },
   "outputs": [],
   "source": [
    "# plot the decision boundary\n",
    "plot_decision_boundary(dtc_grid, train_x.values, train_y.values)"
   ]
  },
  {
   "cell_type": "code",
   "execution_count": null,
   "metadata": {
    "collapsed": true
   },
   "outputs": [],
   "source": [
    "# make prediction and evaluate the model performance on test data\n",
    "test_z = # TODO\n",
    "test_z_prob = # TODO\n",
    "\n",
    "print(\"model accuracy: {}\".format(accuracy_score(test_y, test_z)))\n",
    "print(\"model ROC AUC: {}\".format(roc_auc_score(test_y, test_z_prob)))"
   ]
  },
  {
   "cell_type": "code",
   "execution_count": null,
   "metadata": {
    "collapsed": true
   },
   "outputs": [],
   "source": [
    "print(test_z)\n",
    "print(test_z_prob)"
   ]
  },
  {
   "cell_type": "markdown",
   "metadata": {},
   "source": [
    "---"
   ]
  },
  {
   "cell_type": "markdown",
   "metadata": {},
   "source": [
    "## Random Forest\n",
    "\n",
    "<span style=\"color:orange\">**In this exercise, we will apply the Random Forest Classifier provided in scikit-learn to classify the synthetic moon data.**"
   ]
  },
  {
   "cell_type": "markdown",
   "metadata": {},
   "source": [
    "A random forest is a meta estimator that fits a number of decision tree classifiers on various sub-samples of the dataset and uses averaging to improve the predictive accuracy and control over-fitting. The sub-sample size is always the same as the original input sample size but the samples are drawn with replacement if bootstrap=True (default). Please refer to the [scikit-learn doc](https://scikit-learn.org/stable/modules/generated/sklearn.ensemble.RandomForestClassifier.html) for more details on how to use the API.\n",
    "\n",
    "You can play around with the following hype-parameters and see which set of hyper-parameters gives you the best score:\n",
    "- criterion: The function to measure the quality of a split. Supported criteria are “gini” for the Gini impurity and “entropy” for the information gain.\n",
    "- n_estimators: The number of trees in the forest.\n",
    "- max_depth: The maximum depth of the tree.\n",
    "- min_samples_split: The minimum number of samples required to split an internal node."
   ]
  },
  {
   "cell_type": "code",
   "execution_count": null,
   "metadata": {
    "collapsed": true
   },
   "outputs": [],
   "source": [
    "# TODO: fine-tune Random Forest classifier using grid search with cross-validation (GridSearchCV).\n",
    "parameters = # TODO\n",
    "\n",
    "rfc = # TODO\n",
    "rfc_grid = # TODO\n",
    "\n",
    "# summarize the results of the grid search\n",
    "print(\"The best score is {}\".format(rfc_grid.best_score_))\n",
    "print(\"The best hyper parameter setting is {}\".format(rfc_grid.best_params_))"
   ]
  },
  {
   "cell_type": "code",
   "execution_count": null,
   "metadata": {
    "collapsed": true
   },
   "outputs": [],
   "source": [
    "# plot the decision boundary\n",
    "plot_decision_boundary(rfc_grid, train_x.values, train_y.values)"
   ]
  },
  {
   "cell_type": "markdown",
   "metadata": {},
   "source": [
    "Notice that the decision boundary is no longer orthogonal to the x and y axises and is able to better separate the two classes in the moon dataset.\n",
    "\n",
    "Now let's use the fine-tuned model to make predictions on the test dataset and evaluate it's performance in terms of accuracy and ROC AUC. It should outperform our simplified version of Random Forest as there are more optimizations being implemented in scikit-learn API."
   ]
  },
  {
   "cell_type": "code",
   "execution_count": null,
   "metadata": {
    "collapsed": true
   },
   "outputs": [],
   "source": [
    "# TODO: make prediction and evaluate the model performance on test data\n",
    "test_z = # TODO\n",
    "test_z_prob = # TODO\n",
    "\n",
    "print(\"model accuracy: {}\".format(accuracy_score(test_y, test_z)))\n",
    "print(\"model ROC AUC: {}\".format(roc_auc_score(test_y, test_z_prob)))"
   ]
  },
  {
   "cell_type": "markdown",
   "metadata": {},
   "source": [
    "---"
   ]
  },
  {
   "cell_type": "markdown",
   "metadata": {},
   "source": [
    "## AdaBoost\n",
    "<span style=\"color:orange\">**In this exercise, we will apply AdaBoost classifier in scikit-learn to classify the synthetic moon dataset.**</span> "
   ]
  },
  {
   "cell_type": "markdown",
   "metadata": {},
   "source": [
    "### Train AdaBoost model\n",
    "[Adaboost](https://scikit-learn.org/stable/modules/generated/sklearn.ensemble.AdaBoostClassifier.html) algorithm works by learning each base learner so that it corrects the mis-classified data points from previous classifiers, and use weighted voting of predictions from each base learners for the final prediction. \n",
    "\n",
    "There are two key hyper-parameters:\n",
    "- n_estimators: The maximum number of estimators at which boosting is terminated. In case of perfect fit, the learning procedure is stopped early.\n",
    "- learning_rate: Learning rate shrinks the contribution of each classifier by learning_rate. There is a trade-off between learning_rate and n_estimators.\n"
   ]
  },
  {
   "cell_type": "code",
   "execution_count": null,
   "metadata": {
    "collapsed": true
   },
   "outputs": [],
   "source": [
    "# TODO: fine-tune Adaboost with decision tree (max_depth=4) as base learners using grid search with cross-validation (GridSearchCV).\n",
    "parameters = # TODO\n",
    "\n",
    "adaboost = # TODO\n",
    "adaboost_grid = # TODO\n",
    "\n",
    "# summarize the results of the grid search\n",
    "print(\"The best score is {}\".format(adaboost_grid.best_score_))\n",
    "print(\"The best hyper parameter setting is {}\".format(adaboost_grid.best_params_))"
   ]
  },
  {
   "cell_type": "markdown",
   "metadata": {},
   "source": [
    "Visualize the decision boundaries."
   ]
  },
  {
   "cell_type": "code",
   "execution_count": null,
   "metadata": {
    "collapsed": true
   },
   "outputs": [],
   "source": [
    "# plot the decision boundary\n",
    "plot_decision_boundary(adaboost_grid, train_x.values, train_y.values)"
   ]
  },
  {
   "cell_type": "markdown",
   "metadata": {},
   "source": [
    "Now let's use the fine-tuned model to make predictions on the test dataset and evaluate its performance in terms of accuracy and ROC AUC."
   ]
  },
  {
   "cell_type": "code",
   "execution_count": null,
   "metadata": {
    "collapsed": true
   },
   "outputs": [],
   "source": [
    "# TODO: make prediction and evaluate the model performance on test data\n",
    "test_z = # TODO\n",
    "test_z_prob = # TODO\n",
    "\n",
    "print(\"model accuracy: {}\".format(accuracy_score(test_y, test_z)))\n",
    "print(\"model ROC AUC: {}\".format(roc_auc_score(test_y, test_z_prob)))"
   ]
  },
  {
   "cell_type": "markdown",
   "metadata": {},
   "source": [
    "---"
   ]
  },
  {
   "cell_type": "markdown",
   "metadata": {},
   "source": [
    "## Gradient Boosted Trees\n",
    "<span style=\"color:orange\">**In this exercise, we will apply the Gradient Boosted Tree classifier provided in scikit-learn to classify the synthetic moon dataset.**</span> "
   ]
  },
  {
   "cell_type": "markdown",
   "metadata": {},
   "source": [
    "Gradient Boosted Trees is a generalization of boosting to arbitrary differentiable loss functions, which can be used for both regression and classification problems. At a high level, gradient boosting works by sequentially adding predictors to an ensemble, each one correcting its predecessor. Gradient Boosted Trees, which is a special case of gradient boosting, uses regression trees as the base predictors and builds an additive model in a forward stage-wise fashion. In each stage, regression trees are fit on the negative gradient of the loss function used in a classification or a regression problem. Please refer to [Gradient Boosted Trees](https://scikit-learn.org/stable/modules/generated/sklearn.ensemble.GradientBoostingClassifier.html) for more details on how to use the API.\n",
    "\n",
    "Gradient boosting introduces a new hyperparameter *learning_rate*, which scales the contribution of each tree. If you set it to a low values, such as 0.1, you will need more trees in the ensemble to fit the training data, but the predictions will usually generalize better. This is a regularization technique called shrinkage. In the exercise below, please include *learning_rate* as a hyperparameter in the model fine-tuning."
   ]
  },
  {
   "cell_type": "code",
   "execution_count": null,
   "metadata": {
    "collapsed": true
   },
   "outputs": [],
   "source": [
    "# TODO: fine-tune Gradient Boosted Trees using grid search with cross-validation (GridSearchCV).\n",
    "parameters = # TODO\n",
    "\n",
    "gbc = # TODO\n",
    "gbc_grid = # TODO\n",
    "\n",
    "# summarize the results of the grid search\n",
    "print(\"The best score is {}\".format(gbc_grid.best_score_))\n",
    "print(\"The best hyper parameter setting is {}\".format(gbc_grid.best_params_))"
   ]
  },
  {
   "cell_type": "markdown",
   "metadata": {},
   "source": [
    "Visualize the decision boundaries."
   ]
  },
  {
   "cell_type": "code",
   "execution_count": null,
   "metadata": {
    "collapsed": true
   },
   "outputs": [],
   "source": [
    "# plot the decision boundary for decision tree classifier\n",
    "plot_decision_boundary(gbc_grid, train_x.values, train_y.values)"
   ]
  },
  {
   "cell_type": "markdown",
   "metadata": {},
   "source": [
    "Now let's use the fine-tuned model to make predictions on the test dataset and evaluate its performance in terms of accuracy and ROC AUC."
   ]
  },
  {
   "cell_type": "code",
   "execution_count": null,
   "metadata": {
    "collapsed": true
   },
   "outputs": [],
   "source": [
    "# TODO: make prediction and evaluate the model performance on test data\n",
    "test_z = # TODO\n",
    "test_z_prob = # TODO\n",
    "\n",
    "print(\"model accuracy: {}\".format(accuracy_score(test_y, test_z)))\n",
    "print(\"model ROC AUC: {}\".format(roc_auc_score(test_y, test_z_prob)))"
   ]
  },
  {
   "cell_type": "markdown",
   "metadata": {},
   "source": [
    "---"
   ]
  },
  {
   "cell_type": "markdown",
   "metadata": {},
   "source": [
    "## Conclusion\n",
    "\n",
    "By comparing the model performance as well as the decision boundaries learned from different classifiers on the same dataset, we clearly see ensemble learning are capable of modeling more complex patterns in the data as compared to decision trees, leading to superior performance on the test dataset."
   ]
  },
  {
   "cell_type": "markdown",
   "metadata": {},
   "source": [
    "### End of Lab 3\n",
    "---"
   ]
  }
 ],
 "metadata": {
  "kernelspec": {
   "display_name": "Python 3",
   "language": "python",
   "name": "python3"
  },
  "language_info": {
   "codemirror_mode": {
    "name": "ipython",
    "version": 3
   },
   "file_extension": ".py",
   "mimetype": "text/x-python",
   "name": "python",
   "nbconvert_exporter": "python",
   "pygments_lexer": "ipython3",
   "version": "3.6.3"
  }
 },
 "nbformat": 4,
 "nbformat_minor": 2
}
