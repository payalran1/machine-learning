{
 "cells": [
  {
   "cell_type": "markdown",
   "metadata": {},
   "source": [
    "<h1>Lesson 4. Model selection: Car mileage</h1>"
   ]
  },
  {
   "cell_type": "markdown",
   "metadata": {},
   "source": [
    "<img src=\"https://upload.wikimedia.org/wikipedia/commons/thumb/7/77/%22real_time_display%22_of_mileage_%28%22mpg%22%29_on_Honda_Insight.png/320px-%22real_time_display%22_of_mileage_%28%22mpg%22%29_on_Honda_Insight.png\" style=\"height:200px;\">\n",
    "  \n",
    "<p>In this exercise you will predict car mileage based on its properties. The data is taken from <a href=\"http://www-bcf.usc.edu/~gareth/ISL/\">ISLR website</a>, but requires few transformations to make it usable for model building. These transformations will include: missing value imputation and normalizing the variables. </p>\n",
    "\n",
    "<p>This dataset contains 397 car entries with following features:</p>\n",
    "<ul>\n",
    "<li>mpg miles per gallon (what we are trying to predict)</li>\n",
    "<li>cylinders Number of cylinders between 4 and 8</li>\n",
    "<li>displacement Engine displacement (cu. inches)</li>\n",
    "<li>horsepower Engine horsepower</li>\n",
    "<li>weight Vehicle weight (lbs.)</li>\n",
    "<li>acceleration Time to accelerate from 0 to 60 mph (sec.)</li>\n",
    "<li>year Model year (modulo 100)</li>\n",
    "<li>origin Origin of car (1. American, 2. European, 3. Japanese)</li>\n",
    "<li>name Vehicle name</ul>\n",
    "</ul>\n"
   ]
  },
  {
   "cell_type": "code",
   "execution_count": 56,
   "metadata": {},
   "outputs": [
    {
     "name": "stdout",
     "output_type": "stream",
     "text": [
      "<class 'pandas.core.frame.DataFrame'>\n",
      "RangeIndex: 397 entries, 0 to 396\n",
      "Data columns (total 8 columns):\n",
      "mpg             397 non-null float64\n",
      "cylinders       397 non-null int64\n",
      "displacement    397 non-null float64\n",
      "horsepower      392 non-null float64\n",
      "weight          397 non-null int64\n",
      "acceleration    397 non-null float64\n",
      "year            397 non-null int64\n",
      "origin          397 non-null int64\n",
      "dtypes: float64(4), int64(4)\n",
      "memory usage: 24.9 KB\n",
      "None\n"
     ]
    },
    {
     "data": {
      "text/html": [
       "<div>\n",
       "<style>\n",
       "    .dataframe thead tr:only-child th {\n",
       "        text-align: right;\n",
       "    }\n",
       "\n",
       "    .dataframe thead th {\n",
       "        text-align: left;\n",
       "    }\n",
       "\n",
       "    .dataframe tbody tr th {\n",
       "        vertical-align: top;\n",
       "    }\n",
       "</style>\n",
       "<table border=\"1\" class=\"dataframe\">\n",
       "  <thead>\n",
       "    <tr style=\"text-align: right;\">\n",
       "      <th></th>\n",
       "      <th>mpg</th>\n",
       "      <th>cylinders</th>\n",
       "      <th>displacement</th>\n",
       "      <th>horsepower</th>\n",
       "      <th>weight</th>\n",
       "      <th>acceleration</th>\n",
       "      <th>year</th>\n",
       "      <th>origin</th>\n",
       "    </tr>\n",
       "  </thead>\n",
       "  <tbody>\n",
       "    <tr>\n",
       "      <th>0</th>\n",
       "      <td>18.0</td>\n",
       "      <td>8</td>\n",
       "      <td>307.0</td>\n",
       "      <td>130.0</td>\n",
       "      <td>3504</td>\n",
       "      <td>12.0</td>\n",
       "      <td>70</td>\n",
       "      <td>1</td>\n",
       "    </tr>\n",
       "    <tr>\n",
       "      <th>1</th>\n",
       "      <td>15.0</td>\n",
       "      <td>8</td>\n",
       "      <td>350.0</td>\n",
       "      <td>165.0</td>\n",
       "      <td>3693</td>\n",
       "      <td>11.5</td>\n",
       "      <td>70</td>\n",
       "      <td>1</td>\n",
       "    </tr>\n",
       "    <tr>\n",
       "      <th>2</th>\n",
       "      <td>18.0</td>\n",
       "      <td>8</td>\n",
       "      <td>318.0</td>\n",
       "      <td>150.0</td>\n",
       "      <td>3436</td>\n",
       "      <td>11.0</td>\n",
       "      <td>70</td>\n",
       "      <td>1</td>\n",
       "    </tr>\n",
       "    <tr>\n",
       "      <th>3</th>\n",
       "      <td>16.0</td>\n",
       "      <td>8</td>\n",
       "      <td>304.0</td>\n",
       "      <td>150.0</td>\n",
       "      <td>3433</td>\n",
       "      <td>12.0</td>\n",
       "      <td>70</td>\n",
       "      <td>1</td>\n",
       "    </tr>\n",
       "    <tr>\n",
       "      <th>4</th>\n",
       "      <td>17.0</td>\n",
       "      <td>8</td>\n",
       "      <td>302.0</td>\n",
       "      <td>140.0</td>\n",
       "      <td>3449</td>\n",
       "      <td>10.5</td>\n",
       "      <td>70</td>\n",
       "      <td>1</td>\n",
       "    </tr>\n",
       "  </tbody>\n",
       "</table>\n",
       "</div>"
      ],
      "text/plain": [
       "    mpg  cylinders  displacement  horsepower  weight  acceleration  year  \\\n",
       "0  18.0          8         307.0       130.0    3504          12.0    70   \n",
       "1  15.0          8         350.0       165.0    3693          11.5    70   \n",
       "2  18.0          8         318.0       150.0    3436          11.0    70   \n",
       "3  16.0          8         304.0       150.0    3433          12.0    70   \n",
       "4  17.0          8         302.0       140.0    3449          10.5    70   \n",
       "\n",
       "   origin  \n",
       "0       1  \n",
       "1       1  \n",
       "2       1  \n",
       "3       1  \n",
       "4       1  "
      ]
     },
     "execution_count": 56,
     "metadata": {},
     "output_type": "execute_result"
    }
   ],
   "source": [
    "import pandas as pd\n",
    "\n",
    "# Load the data\n",
    "auto = pd.read_csv('Auto.csv')\n",
    "print(auto.info())\n",
    "auto.head()"
   ]
  },
  {
   "cell_type": "markdown",
   "metadata": {},
   "source": [
    "<h3>Q.1. Write a command that will calculate the number of missing values in this dataset</h3>"
   ]
  },
  {
   "cell_type": "code",
   "execution_count": 57,
   "metadata": {},
   "outputs": [
    {
     "name": "stdout",
     "output_type": "stream",
     "text": [
      "total number of missing values is  5\n"
     ]
    }
   ],
   "source": [
    "# Command(s)\n",
    "import math\n",
    "count = 0\n",
    "#iterate trough all rows in dataframe and check each value\n",
    "for index, row in auto.iterrows():\n",
    "    if (math.isnan(row['mpg'])):\n",
    "        count= count+1\n",
    "    elif (math.isnan(row['cylinders'])):  \n",
    "        count = count+1\n",
    "    elif (math.isnan(row['displacement'])): \n",
    "        count = count+1\n",
    "    elif (math.isnan(row['horsepower'])): \n",
    "        count = count+1\n",
    "    elif (math.isnan(row['weight'])): \n",
    "        count = count+1\n",
    "    elif (math.isnan(row['acceleration'])): \n",
    "        count = count+1\n",
    "    elif (math.isnan(row['year'])): \n",
    "        count = count+1 \n",
    "    elif (math.isnan(row['origin'])): \n",
    "        count = count+1 \n",
    "    else:\n",
    "        count = count \n",
    "   \n",
    "print('total number of missing values is ',count)\n",
    "\n",
    "\n"
   ]
  },
  {
   "cell_type": "markdown",
   "metadata": {},
   "source": [
    "<h3>Q.2. Write a command that will only show the rows with missing values. Can you comment on why the values might be missing (e.g. excessive prevalence of specific feature)?</h3>"
   ]
  },
  {
   "cell_type": "code",
   "execution_count": 58,
   "metadata": {},
   "outputs": [
    {
     "name": "stdout",
     "output_type": "stream",
     "text": [
      "      mpg  cylinders  displacement  horsepower  weight  acceleration  year  \\\n",
      "32   25.0          4          98.0         NaN    2046          19.0    71   \n",
      "126  21.0          6         200.0         NaN    2875          17.0    74   \n",
      "330  40.9          4          85.0         NaN    1835          17.3    80   \n",
      "336  23.6          4         140.0         NaN    2905          14.3    80   \n",
      "354  34.5          4         100.0         NaN    2320          15.8    81   \n",
      "\n",
      "     origin  \n",
      "32        1  \n",
      "126       1  \n",
      "330       2  \n",
      "336       1  \n",
      "354       2  \n"
     ]
    }
   ],
   "source": [
    "# Command:\n",
    "null_data = auto[auto.isnull().any(axis=1)]\n",
    "print (null_data)\n",
    "# horsepower values are missing for 5 columns \n",
    "# Comment (One - two sentence)\n",
    "# For the rows in which horsepower is missing, cylinders is mostly 4 (6 in one case), mpg is on the higher side, displacement is on the lower side,  weight is on the lower side, and acceleration on higher side than the one having horsepower values."
   ]
  },
  {
   "cell_type": "markdown",
   "metadata": {},
   "source": [
    "<h3>Q.3. Impute the missing values using median for the column. Given answer to Q.2, is this a good approach to fix the missing value problem?</h3>"
   ]
  },
  {
   "cell_type": "code",
   "execution_count": 59,
   "metadata": {
    "collapsed": true
   },
   "outputs": [],
   "source": [
    "# Command(s):\n",
    "auto=auto.fillna(auto.median())\n",
    "# Comment (one sentence):\n",
    "# This is not a good approach since these values may be dependent on other features and the records are very different from each other. A good approach would be to fix the values by considering similar records"
   ]
  },
  {
   "cell_type": "markdown",
   "metadata": {},
   "source": [
    "<h3>Q.4. Develop a model that predicts mpg using all the available features in the data.frame. Summarize it and comment on its quality. </h3>"
   ]
  },
  {
   "cell_type": "code",
   "execution_count": 60,
   "metadata": {},
   "outputs": [
    {
     "name": "stdout",
     "output_type": "stream",
     "text": [
      "Mean Absolute Error: 2.190277108294217\n",
      "Mean Squared Error: 9.025060435238995\n",
      "Root Mean Squared Error: 3.004173835722393\n"
     ]
    },
    {
     "data": {
      "text/plain": [
       "0.8477189412837604"
      ]
     },
     "execution_count": 60,
     "metadata": {},
     "output_type": "execute_result"
    }
   ],
   "source": [
    "# Develop the model \n",
    "import numpy as np\n",
    "from sklearn.linear_model import LinearRegression\n",
    "from sklearn import metrics \n",
    "from sklearn.model_selection import train_test_split\n",
    "\n",
    "X = auto.drop('mpg', axis=1)\n",
    "y = auto[['mpg']]\n",
    "\n",
    "# use 20% data for test and 80% for training\n",
    "X_train, X_test, y_train, y_test = train_test_split(X, y, test_size=0.20, random_state=1)\n",
    "\n",
    "regressor = LinearRegression()\n",
    "regressor.fit(X_train, y_train)\n",
    "\n",
    "y_pred = regressor.predict(X_test)  \n",
    "print('Mean Absolute Error:', metrics.mean_absolute_error(y_test, y_pred))  \n",
    "print('Mean Squared Error:', metrics.mean_squared_error(y_test, y_pred))  \n",
    "print('Root Mean Squared Error:', np.sqrt(metrics.mean_squared_error(y_test, y_pred))) \n",
    "\n",
    "# Comment on its quality \n",
    "regressor.score(X_test, y_test)\n",
    "# [payal] using linear regression model, it is 84.77% accurate.  \n"
   ]
  },
  {
   "cell_type": "markdown",
   "metadata": {},
   "source": [
    "<h3>Q.5. Show histogram of engine displacement to reveal its non-normal distribution. Normalize this feature by either applying Box-Cox transformation or any normalization tool from Scikit-learn. Plot this new feature to see whether it is now normally distributed.</h3>"
   ]
  },
  {
   "cell_type": "code",
   "execution_count": 61,
   "metadata": {},
   "outputs": [
    {
     "data": {
      "image/png": "[encoded data removed]",
      "text/plain": [
       "<matplotlib.figure.Figure at 0x7f5444ae7e80>"
      ]
     },
     "metadata": {},
     "output_type": "display_data"
    },
    {
     "data": {
      "image/png": "[encoded data removed]",
      "text/plain": [
       "<matplotlib.figure.Figure at 0x7f54449d4be0>"
      ]
     },
     "metadata": {},
     "output_type": "display_data"
    }
   ],
   "source": [
    "# Histogram of engine displacement\n",
    "import matplotlib.pyplot as plt\n",
    "\n",
    "x = auto[['displacement']]\n",
    "n, bins, patches = plt.hist(x, 60, normed=1, facecolor='green', alpha=0.75)\n",
    "\n",
    "plt.xlabel('Engine Displacement')\n",
    "plt.ylabel('Frequency')\n",
    "plt.title('histogram of engine displacement')\n",
    "\n",
    "plt.show()\n",
    "\n",
    "# Plot histogram of this new feature to reveal normal-like distribution\n",
    "from sklearn.preprocessing import power_transform\n",
    "x=power_transform(x, method='box-cox', standardize=True, copy=True)\n",
    "n, bins, patches = plt.hist(x, 60, normed=1, facecolor='green', alpha=0.75)\n",
    "\n",
    "plt.xlabel('Engine Displacement')\n",
    "plt.ylabel('Frequency')\n",
    "plt.title('histogram of engine displacement')\n",
    "\n",
    "plt.show()"
   ]
  },
  {
   "cell_type": "markdown",
   "metadata": {},
   "source": [
    "<h3>Q.7. Recalculate the model to predict mpg with the new feature and comment on its performance in comparison to the original model.</h3>"
   ]
  },
  {
   "cell_type": "code",
   "execution_count": 62,
   "metadata": {},
   "outputs": [
    {
     "name": "stdout",
     "output_type": "stream",
     "text": [
      "Mean Absolute Error: 2.190447619401775\n",
      "Mean Squared Error: 9.51772507578615\n",
      "Root Mean Squared Error: 3.085081048495509\n"
     ]
    },
    {
     "data": {
      "text/plain": [
       "0.8394061445337639"
      ]
     },
     "execution_count": 62,
     "metadata": {},
     "output_type": "execute_result"
    }
   ],
   "source": [
    "# Calculate then new model\n",
    "import numpy as np\n",
    "from sklearn.linear_model import LinearRegression\n",
    "from sklearn import metrics \n",
    "from sklearn.model_selection import train_test_split\n",
    "\n",
    "auto['normalized_displacement']= power_transform(auto[['displacement']], method='box-cox', standardize=True, copy=True)\n",
    "X = auto.drop(['mpg','displacement'], axis=1)\n",
    "y = auto[['mpg']]\n",
    "\n",
    "# use 20% data for test and 80% for training\n",
    "X_train, X_test, y_train, y_test = train_test_split(X, y, test_size=0.20, random_state=1)\n",
    "\n",
    "regressor = LinearRegression()\n",
    "regressor.fit(X_train, y_train)\n",
    "\n",
    "y_pred = regressor.predict(X_test)  \n",
    "print('Mean Absolute Error:', metrics.mean_absolute_error(y_test, y_pred))  \n",
    "print('Mean Squared Error:', metrics.mean_squared_error(y_test, y_pred))  \n",
    "print('Root Mean Squared Error:', np.sqrt(metrics.mean_squared_error(y_test, y_pred))) \n",
    "\n",
    "# Comment on its quality \n",
    "regressor.score(X_test, y_test)\n",
    "\n",
    "# Comment on its performance\n",
    "# error numbers are slilghly bigger than without normalization , also the model score is 83.94% which is 0.8% less than previous model\n",
    "#Mean Absolute Error: 2.190447619401775\n",
    "#Mean Squared Error: 9.51772507578615\n",
    "#Root Mean Squared Error: 3.085081048495509\n",
    "# 0.8394061445337639\n"
   ]
  },
  {
   "cell_type": "markdown",
   "metadata": {},
   "source": [
    "<h3>Q.8. What is the mean and standard deviation for all the features?</h3>"
   ]
  },
  {
   "cell_type": "code",
   "execution_count": 72,
   "metadata": {},
   "outputs": [
    {
     "name": "stdout",
     "output_type": "stream",
     "text": [
      "The mean and standard deviation for mpg are 23.515869 and 7.825804\n",
      "The mean and standard deviation for cylinders are 5.458438 and 1.701577\n",
      "The mean and standard deviation for displacement are 193.532746 and 104.379583\n",
      "The mean and standard deviation for horsepower are 104.331234 and 38.266994\n",
      "The mean and standard deviation for weight are 2970.261965 and 847.904119\n",
      "The mean and standard deviation for acceleration are 15.555668 and 2.749995\n",
      "The mean and standard deviation for year are 75.994962 and 3.690005\n",
      "The mean and standard deviation for origin are 1.574307 and 0.802549\n"
     ]
    }
   ],
   "source": [
    "print('The mean and standard deviation for mpg are %f and %f' %(auto[['mpg']].mean(), auto[['mpg']].std()))\n",
    "print('The mean and standard deviation for cylinders are %f and %f' %(auto[['cylinders']].mean(), auto[['cylinders']].std()))\n",
    "print('The mean and standard deviation for displacement are %f and %f' %(auto[['displacement']].mean(), auto[['displacement']].std()))\n",
    "print('The mean and standard deviation for horsepower are %f and %f' %(auto[['horsepower']].mean(), auto[['horsepower']].std()))\n",
    "print('The mean and standard deviation for weight are %f and %f' %(auto[['weight']].mean(), auto[['weight']].std()))\n",
    "print('The mean and standard deviation for acceleration are %f and %f' %(auto[['acceleration']].mean(), auto[['acceleration']].std()))\n",
    "print('The mean and standard deviation for year are %f and %f' %(auto[['year']].mean(), auto[['year']].std()))\n",
    "print('The mean and standard deviation for origin are %f and %f' %(auto[['origin']].mean(), auto[['origin']].std()))\n"
   ]
  },
  {
   "cell_type": "markdown",
   "metadata": {},
   "source": [
    "<h3>Q.9. Center all the features, so that their mean is 0 and scale them, so that their standard deviation is 1. Recalculate the model, comment on its performance.</h3>"
   ]
  },
  {
   "cell_type": "code",
   "execution_count": 75,
   "metadata": {},
   "outputs": [
    {
     "name": "stdout",
     "output_type": "stream",
     "text": [
      "Mean Absolute Error: 2.0566209548602528\n",
      "Mean Squared Error: 8.225734948861316\n",
      "Root Mean Squared Error: 2.8680542095402095\n",
      "Score: 0.8612060677354785\n"
     ]
    },
    {
     "name": "stderr",
     "output_type": "stream",
     "text": [
      "/usr/local/lib/python3.5/dist-packages/ipykernel_launcher.py:9: DataConversionWarning: Data with input dtype int64, float64 were all converted to float64 by the scale function.\n",
      "  if __name__ == '__main__':\n"
     ]
    }
   ],
   "source": [
    "# Center and scale\n",
    "from sklearn import preprocessing\n",
    "import numpy as np\n",
    "from sklearn.linear_model import LinearRegression\n",
    "from sklearn import metrics \n",
    "from sklearn.model_selection import train_test_split\n",
    "\n",
    "X = auto.drop('mpg', axis=1)\n",
    "X_scaled = preprocessing.scale(X)\n",
    "y = auto[['mpg']]\n",
    "\n",
    "# Recalculate the model\n",
    "# use 20% data for test and 80% for training\n",
    "X_train, X_test, y_train, y_test = train_test_split(X_scaled, y, test_size=0.20, random_state=1)\n",
    "\n",
    "regressor = LinearRegression()\n",
    "regressor.fit(X_train, y_train)\n",
    "\n",
    "y_pred = regressor.predict(X_test)  \n",
    "print('Mean Absolute Error:', metrics.mean_absolute_error(y_test, y_pred))  \n",
    "print('Mean Squared Error:', metrics.mean_squared_error(y_test, y_pred))  \n",
    "print('Root Mean Squared Error:', np.sqrt(metrics.mean_squared_error(y_test, y_pred)))\n",
    "\n",
    "\n",
    "# Comment on its performance\n",
    "print('Score:',regressor.score(X_test, y_test))\n",
    "# model performs better after scaling, score is 86.12%"
   ]
  },
  {
   "cell_type": "code",
   "execution_count": null,
   "metadata": {
    "collapsed": true
   },
   "outputs": [],
   "source": [
    "#what was your incoming experience with this model, if any?\n",
    "# [payal] I have used linear regression which is same as we used in lab2 assignment , the incoming exerience was about tailoring the data for better performance\n",
    "#what steps you took, what obstacles you encountered.\n",
    "# [payal] I used available python libraries so simplementation was easy using public API documentation, hwoever it took some time and effort to understand what was going on inside these functions and how data updates were changing model performance \n",
    "#how you link this exercise to real-world, machine learning problem-solving. (What steps were missing? What else do you need to learn?)\n",
    "#[payal] This is very relevant since data is not complete and perfect in real world. It is very useful to know the different strategies to work with incomplete data and their pros and cons."
   ]
  }
 ],
 "metadata": {
  "kernelspec": {
   "display_name": "Python 3 [3.6]",
   "language": "python",
   "name": "python3"
  },
  "language_info": {
   "codemirror_mode": {
    "name": "ipython",
    "version": 3
   },
   "file_extension": ".py",
   "mimetype": "text/x-python",
   "name": "python",
   "nbconvert_exporter": "python",
   "pygments_lexer": "ipython3",
   "version": "3.6.4"
  }
 },
 "nbformat": 4,
 "nbformat_minor": 2
}
